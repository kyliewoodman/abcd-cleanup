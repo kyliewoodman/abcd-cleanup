{
 "cells": [
  {
   "cell_type": "markdown",
   "id": "eb451ea3",
   "metadata": {},
   "source": [
    "# Creating a DataFrame with ABCD Files \n",
    "### This Noteboook is meant to be a template to pulling, combining, and organizing ABCD behavioral data files \n",
    "### File path: srv/lab/fmri/abcd/beh\n",
    "\n",
    "If you have any questions about ABCD data, please reference the [NDA](https://nda.nih.gov/), [Repronim tutorials](https://www.abcd-repronim.org/), or ask [Kylie Woodman](kyliewoodman@ucsb.edu)."
   ]
  },
  {
   "cell_type": "code",
   "execution_count": 1,
   "id": "2bf0f3bb",
   "metadata": {},
   "outputs": [],
   "source": [
    "#import libraries and tools\n",
    "import pandas as pd\n",
    "import os as os\n",
    "import matplotlib.pyplot as plt\n",
    "from functools import reduce\n"
   ]
  },
  {
   "cell_type": "code",
   "execution_count": 2,
   "id": "3a9a8c2b",
   "metadata": {},
   "outputs": [
    {
     "data": {
      "text/plain": [
       "'/srv/lab/fmri/abcd/beh'"
      ]
     },
     "execution_count": 2,
     "metadata": {},
     "output_type": "execute_result"
    }
   ],
   "source": [
    "#set directory - this may need to be modified if pulling data from a differe director\n",
    "os.chdir ('../')\n",
    "os.chdir ('../')\n",
    "os.chdir ('../')\n",
    "os.chdir ('srv/lab/fmri/abcd/beh/')\n",
    "os.getcwd()"
   ]
  },
  {
   "cell_type": "code",
   "execution_count": null,
   "id": "a9522677",
   "metadata": {},
   "outputs": [],
   "source": [
    "#Read in your variables of interest\n",
    "##To find your variables of interest, use NDA's data dictonary \n",
    "###https://nda.nih.gov/general-query.html\n",
    "#Example\n",
    "\n",
    "youth_screentime = pd.read_csv(\"abcd_stq01.txt\", delimiter='\\t', na_values=[\"\"], low_memory= False)\n"
   ]
  }
 ],
 "metadata": {
  "kernelspec": {
   "display_name": "Python 3 (ipykernel)",
   "language": "python",
   "name": "python3"
  },
  "language_info": {
   "codemirror_mode": {
    "name": "ipython",
    "version": 3
   },
   "file_extension": ".py",
   "mimetype": "text/x-python",
   "name": "python",
   "nbconvert_exporter": "python",
   "pygments_lexer": "ipython3",
   "version": "3.9.9"
  }
 },
 "nbformat": 4,
 "nbformat_minor": 5
}
